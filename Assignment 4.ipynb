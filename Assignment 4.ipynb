{
 "cells": [
  {
   "cell_type": "raw",
   "id": "f0f33246",
   "metadata": {},
   "source": [
    "1. What exactly is []?\n",
    "this is a empty list value"
   ]
  },
  {
   "cell_type": "code",
   "execution_count": 6,
   "id": "807da63b",
   "metadata": {},
   "outputs": [
    {
     "name": "stdout",
     "output_type": "stream",
     "text": [
      "[2, 4, 'hello', 6, 8, 10]\n"
     ]
    }
   ],
   "source": [
    "#2. In a list of values stored in a variable called spam, \n",
    "#how would you assign the value 'hello' as the third value? \n",
    "#(Assume [2, 4, 6, 8, 10] are in spam.)\n",
    "\n",
    "spam=[2,4,6,8,10]\n",
    "spam.insert(2,'hello')\n",
    "print(spam)"
   ]
  },
  {
   "cell_type": "code",
   "execution_count": 32,
   "id": "8f39eb13",
   "metadata": {},
   "outputs": [
    {
     "name": "stdout",
     "output_type": "stream",
     "text": [
      "question 3 answer is: d\n",
      "question 4 answer is: d\n",
      "question 5 answer is: ['a', 'b']\n"
     ]
    }
   ],
   "source": [
    "#Let's pretend the spam includes the list ['a', 'b', 'c', 'd'] for the next three queries.\n",
    "#3. What is the value of spam[int(int('3' * 2) / 11)]?\n",
    "#4. What is the value of spam[-1]?\n",
    "#5. What is the value of spam[:2]?\n",
    "\n",
    "\n",
    "spam=['a','b','c','d']\n",
    "#answer-3\n",
    "print(\"question 3 answer is:\",spam[int(int('3'*2)/11)])\n",
    "\n",
    "#answer-4\n",
    "print(\"question 4 answer is:\",spam[-1])\n",
    "\n",
    "#answer-5\n",
    "print(\"question 5 answer is:\",spam[:2])\n",
    "\n",
    "\n"
   ]
  },
  {
   "cell_type": "code",
   "execution_count": 40,
   "id": "f7047037",
   "metadata": {},
   "outputs": [
    {
     "name": "stdout",
     "output_type": "stream",
     "text": [
      "1\n",
      "[3.14, 'cat', 11, 'cat', True, 99]\n",
      "[3.14, 11, 'cat', True, 99]\n"
     ]
    }
   ],
   "source": [
    "#Let's pretend bacon has the list [3.14, 'cat,' 11, 'cat,' True] for the next three questions.\n",
    "\n",
    "bacon=[3.14,'cat',11,'cat',True]\n",
    "#6. What is the value of bacon.index('cat')?\n",
    "print(bacon.index('cat'))\n",
    "\n",
    "#7. How does bacon.append(99) change the look of the list value in bacon?\n",
    "bacon.append(99)\n",
    "print(bacon)\n",
    "\n",
    "#8. How does bacon.remove('cat') change the look of the list in bacon?\n",
    "bacon.remove('cat')\n",
    "print(bacon)"
   ]
  },
  {
   "cell_type": "raw",
   "id": "6340e9b7",
   "metadata": {},
   "source": [
    "9. What are the list concatenation and list replication operators?\n",
    "\n",
    "+ for concatenation\n",
    "* for replication"
   ]
  },
  {
   "cell_type": "raw",
   "id": "b9a80e1f",
   "metadata": {},
   "source": [
    "10. What is difference between the list methods append() and insert()?\n",
    "\n",
    "append - add single elemet at the end of list\n",
    "extend - add multiple elements at the end of list\n",
    "insert - add single element as per desired index position."
   ]
  },
  {
   "cell_type": "code",
   "execution_count": 49,
   "id": "3ed02258",
   "metadata": {},
   "outputs": [
    {
     "name": "stdout",
     "output_type": "stream",
     "text": [
      "[1, 2, 'b']\n",
      "[1, 'a', 'b']\n"
     ]
    },
    {
     "ename": "NameError",
     "evalue": "name 'list2' is not defined",
     "output_type": "error",
     "traceback": [
      "\u001b[1;31m---------------------------------------------------------------------------\u001b[0m",
      "\u001b[1;31mNameError\u001b[0m                                 Traceback (most recent call last)",
      "\u001b[1;32mC:\\Users\\NITESH~1.BIS\\AppData\\Local\\Temp/ipykernel_7848/1459238148.py\u001b[0m in \u001b[0;36m<module>\u001b[1;34m\u001b[0m\n\u001b[0;32m     14\u001b[0m \u001b[0mlist2\u001b[0m\u001b[1;33m=\u001b[0m\u001b[1;33m[\u001b[0m\u001b[1;36m1\u001b[0m\u001b[1;33m,\u001b[0m\u001b[1;36m2\u001b[0m\u001b[1;33m,\u001b[0m\u001b[1;34m'a'\u001b[0m\u001b[1;33m,\u001b[0m\u001b[1;34m'b'\u001b[0m\u001b[1;33m]\u001b[0m\u001b[1;33m\u001b[0m\u001b[1;33m\u001b[0m\u001b[0m\n\u001b[0;32m     15\u001b[0m \u001b[1;32mdel\u001b[0m \u001b[0mlist2\u001b[0m\u001b[1;33m\u001b[0m\u001b[1;33m\u001b[0m\u001b[0m\n\u001b[1;32m---> 16\u001b[1;33m \u001b[0mprint\u001b[0m\u001b[1;33m(\u001b[0m\u001b[0mlist2\u001b[0m\u001b[1;33m)\u001b[0m\u001b[1;33m\u001b[0m\u001b[1;33m\u001b[0m\u001b[0m\n\u001b[0m",
      "\u001b[1;31mNameError\u001b[0m: name 'list2' is not defined"
     ]
    }
   ],
   "source": [
    "#11. What are the two methods for removing items from a list?\n",
    "\n",
    "#remove-  delete signle data from list\n",
    "#del- delete single or whole data from the list\n",
    "\n",
    "list=[1,2,'a','b']\n",
    "\n",
    "list.remove('a')\n",
    "print(list)\n",
    "\n",
    "list1=[1,2,'a','b']\n",
    "del list1[1]\n",
    "print(list1)\n",
    "\n",
    "list2=[1,2,'a','b']\n",
    "del list2\n",
    "print(list2)"
   ]
  },
  {
   "cell_type": "code",
   "execution_count": 102,
   "id": "e07460a2",
   "metadata": {},
   "outputs": [
    {
     "name": "stdout",
     "output_type": "stream",
     "text": [
      "4\n",
      "23\n",
      "\r\n",
      "2\n",
      "11\n",
      "\r\n",
      "[1, 2, 'a']\n",
      "Ful\n",
      "\r\n",
      "['a', 5, 'c', 3, 'd', 10, 'e', 11]\n",
      "science is good,science is bad\n"
     ]
    }
   ],
   "source": [
    "#12. Describe how list values and string values are identical.\n",
    "\n",
    "list3=[1,2,'a','b']\n",
    "print(len(list3))\n",
    "string3='Full stack data science'\n",
    "print(len(string3))\n",
    "print('\\r')\n",
    "\n",
    "print(list3.index('a'))\n",
    "print(string3.index('data'))\n",
    "print('\\r')\n",
    "\n",
    "list3=[1,2,'a','b']\n",
    "s1=slice(3)\n",
    "print(list3[s1])\n",
    "\n",
    "string3='Full stack data science'\n",
    "s2=slice(3)\n",
    "print(string3[s2])\n",
    "print('\\r')\n",
    "\n",
    "list4=['a',5,'c',3]\n",
    "list5=['d',10,'e',11]\n",
    "print(list4+list5)\n",
    "\n",
    "string4='science is good'\n",
    "string5='science is bad'\n",
    "print(string4+\",\"+string5)"
   ]
  },
  {
   "cell_type": "raw",
   "id": "0bbb366a",
   "metadata": {},
   "source": [
    "13. What's the difference between tuples and lists?\n",
    "\n",
    "lists reresented by []\n",
    "they are mutable means we can add/remove/replace data in lists\n",
    "\n",
    "tuple represented by ()\n",
    "they are immutable function."
   ]
  },
  {
   "cell_type": "code",
   "execution_count": 109,
   "id": "c925325e",
   "metadata": {},
   "outputs": [
    {
     "name": "stdout",
     "output_type": "stream",
     "text": [
      "<class 'tuple'>\n"
     ]
    }
   ],
   "source": [
    "#14. How do you type a tuple value that only contains the integer 42?\n",
    "\n",
    "s=(42,)\n",
    "print(type(s))\n"
   ]
  },
  {
   "cell_type": "code",
   "execution_count": 2,
   "id": "bdb90838",
   "metadata": {},
   "outputs": [
    {
     "name": "stdout",
     "output_type": "stream",
     "text": [
      "(1, 2, 'a')\n",
      "[2, 8, 9]\n"
     ]
    }
   ],
   "source": [
    "#15. How do you get a list value's tuple form?\n",
    "#How do you get a tuple value's list form?\n",
    "\n",
    "list_num=[1,2,'a']\n",
    "print(tuple(list_num))\n",
    "\n",
    "tuple_num=(2,8,9)\n",
    "print(list(tuple_num))"
   ]
  },
  {
   "cell_type": "raw",
   "id": "e2765b3f",
   "metadata": {},
   "source": [
    "#16. Variables that \"contain\" list values are not necessarily lists themselves.\n",
    "Instead, what do they contain?\n",
    "\n",
    "they contain references to the list values.\n",
    "x=x+1\n",
    "here x=x+1 is list values\n",
    "on every run x value chnages\n"
   ]
  },
  {
   "cell_type": "code",
   "execution_count": 25,
   "id": "8b0428a8",
   "metadata": {},
   "outputs": [
    {
     "name": "stdout",
     "output_type": "stream",
     "text": [
      "The original elements before deep copying\n",
      "1 2 [3, 5] 4 \r\n",
      "The new list of elements after deep copying \n",
      "1 2 [7, 5] 4 \r\n",
      "The original elements after deep copying\n",
      "1 2 [3, 5] 4 \n",
      "\n",
      "The original elements before deep copying\n",
      "1 2 [3, 5] 4 \r\n",
      "The new list of elements after deep copying \n",
      "1 2 [7, 5] 4 \r\n",
      "The original elements after deep copying\n",
      "1 2 [7, 5] 4 "
     ]
    }
   ],
   "source": [
    "#17. How do you distinguish between copy.copy() and copy.deepcopy()?\n",
    "\n",
    "#in copy.deepcopy once we made a child product it is not going to chnage the parent data\n",
    "#in copy.copy once we made a child product it will change the parent data\n",
    "\n",
    "li1 = [1, 2, [3,5], 4]\n",
    "print (\"The original elements before deep copying\")\n",
    "for i in range(0,len(li1)):\n",
    "    print (li1[i],end=\" \")\n",
    "print(\"\\r\")\n",
    "\n",
    "li2 = copy.deepcopy(li1)\n",
    "li2[2][0] = 7\n",
    "print (\"The new list of elements after deep copying \")\n",
    "for i in range(0,len(li2)):\n",
    "    print (li2[i],end=\" \")\n",
    "print(\"\\r\")\n",
    "\n",
    "print (\"The original elements after deep copying\")\n",
    "for i in range(0,len( li1)):\n",
    "    print (li1[i],end=\" \")\n",
    "print(\"\\n\")    \n",
    "    \n",
    "    \n",
    "    \n",
    "#17 SHALLOW COPY\n",
    "\n",
    "li11 = [1, 2, [3,5], 4]\n",
    "print (\"The original elements before deep copying\")\n",
    "for i in range(0,len(li11)):\n",
    "    print (li11[i],end=\" \")\n",
    "print(\"\\r\")\n",
    "\n",
    "li21 = copy.copy(li11)\n",
    "li21[2][0] = 7\n",
    "print (\"The new list of elements after deep copying \")\n",
    "for i in range(0,len(li21)):\n",
    "    print (li21[i],end=\" \")\n",
    "print(\"\\r\")\n",
    "\n",
    "print (\"The original elements after deep copying\")\n",
    "for i in range(0,len( li11)):\n",
    "    print (li11[i],end=\" \")\n",
    "\n"
   ]
  },
  {
   "cell_type": "code",
   "execution_count": null,
   "id": "14919086",
   "metadata": {},
   "outputs": [],
   "source": []
  }
 ],
 "metadata": {
  "kernelspec": {
   "display_name": "Python 3 (ipykernel)",
   "language": "python",
   "name": "python3"
  },
  "language_info": {
   "codemirror_mode": {
    "name": "ipython",
    "version": 3
   },
   "file_extension": ".py",
   "mimetype": "text/x-python",
   "name": "python",
   "nbconvert_exporter": "python",
   "pygments_lexer": "ipython3",
   "version": "3.9.7"
  }
 },
 "nbformat": 4,
 "nbformat_minor": 5
}
