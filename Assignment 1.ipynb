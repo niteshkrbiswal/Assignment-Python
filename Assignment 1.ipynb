{
 "cells": [
  {
   "cell_type": "raw",
   "id": "c43deb55",
   "metadata": {},
   "source": [
    "\n",
    "1. In the below elements which of them are values or an expression? eg:- values can be integer or string and expressions will be mathematical operators.\n",
    "\n",
    " *      = expression \n",
    "'hello' =value\n",
    "-87.8   =value\n",
    "-       =expression \n",
    "/       =expression \n",
    "+       =expression \n",
    "6       =value\n"
   ]
  },
  {
   "cell_type": "raw",
   "id": "404b2adf",
   "metadata": {},
   "source": [
    "2.What is the difference between string and variable?\n",
    "\n",
    "-strings are the sequence of one or more number,letters,symbols\n",
    "-varibales are the empty symbols which we used to store data in a programme"
   ]
  },
  {
   "cell_type": "raw",
   "id": "bc566077",
   "metadata": {},
   "source": [
    "3.Describe three different data types.\n",
    "\n",
    "integers\n",
    "floating\n",
    "list\n"
   ]
  },
  {
   "cell_type": "raw",
   "id": "fd65e1a7",
   "metadata": {},
   "source": [
    "4.What is an expression made up of? What do all expressions do?\n",
    "\n",
    "An expression is made up of operators & operands\n",
    "Expression is interpreted to produce some other values based on operators & opernads."
   ]
  },
  {
   "cell_type": "raw",
   "id": "663c42e4",
   "metadata": {},
   "source": [
    "5. This assignment statements, like spam = 10. What is the difference between an expression and a statement?\n",
    "\n",
    "here spam interpreted as 10 ,so it a expression\n",
    "but statements is standalone unit whhich doesn't interpret anything."
   ]
  },
  {
   "cell_type": "code",
   "execution_count": 5,
   "id": "31e166b4",
   "metadata": {},
   "outputs": [
    {
     "name": "stdout",
     "output_type": "stream",
     "text": [
      "23\n"
     ]
    }
   ],
   "source": [
    "#6. After running the following code, what does the variable bacon contain?\n",
    "\n",
    "bacon = 22\n",
    "print(bacon + 1)"
   ]
  },
  {
   "cell_type": "code",
   "execution_count": 8,
   "id": "b0308c3a",
   "metadata": {},
   "outputs": [
    {
     "name": "stdout",
     "output_type": "stream",
     "text": [
      "spamspamspam\n",
      "spamspamspam\n"
     ]
    }
   ],
   "source": [
    "#7. What should the values of the following two terms be?\n",
    "print('spam' + 'spamspam')\n",
    "print('spam' * 3)\n"
   ]
  },
  {
   "cell_type": "raw",
   "id": "27d442a9",
   "metadata": {},
   "source": [
    "#8. Why is eggs a valid variable name while 100 is invalid?\n",
    "\n",
    "Because 100 is a integer & variable shouldn't be a letter\n",
    "though wecan add some letter infornt of interger and that would be a variable"
   ]
  },
  {
   "cell_type": "raw",
   "id": "38bf9eb4",
   "metadata": {},
   "source": [
    "9. What three functions can be used to get the integer, floating-point number, or \n",
    "   string version of a value?\n",
    "\n",
    "int()\n",
    "float()\n",
    "str()"
   ]
  },
  {
   "cell_type": "code",
   "execution_count": 16,
   "id": "27c7f5ef",
   "metadata": {},
   "outputs": [
    {
     "name": "stdout",
     "output_type": "stream",
     "text": [
      "I have eaten 99 burritos.\n"
     ]
    }
   ],
   "source": [
    "#10.Why does this expression cause an error? How can you fix it?\n",
    "#print('I have eaten ' + 99 + ' burritos.')\n",
    "\n",
    "type(99)\n",
    "s=str(99)\n",
    "print('I have eaten ' + s + ' burritos.')"
   ]
  },
  {
   "cell_type": "code",
   "execution_count": null,
   "id": "91d8a1cc",
   "metadata": {},
   "outputs": [],
   "source": []
  }
 ],
 "metadata": {
  "kernelspec": {
   "display_name": "Python 3 (ipykernel)",
   "language": "python",
   "name": "python3"
  },
  "language_info": {
   "codemirror_mode": {
    "name": "ipython",
    "version": 3
   },
   "file_extension": ".py",
   "mimetype": "text/x-python",
   "name": "python",
   "nbconvert_exporter": "python",
   "pygments_lexer": "ipython3",
   "version": "3.9.7"
  }
 },
 "nbformat": 4,
 "nbformat_minor": 5
}
