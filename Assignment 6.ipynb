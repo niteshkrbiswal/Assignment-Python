{
 "cells": [
  {
   "cell_type": "raw",
   "id": "8f303910",
   "metadata": {},
   "source": [
    "1. What are escape characters, and how do you use them?\n",
    "\n",
    "escape characters is a backlash followed by the character you want to insert\n",
    "\n",
    "it is added in string values with the help of backlash that would \n",
    "otherwise be difficult or impossible to type into code.\n"
   ]
  },
  {
   "cell_type": "code",
   "execution_count": 21,
   "id": "d761d865",
   "metadata": {},
   "outputs": [
    {
     "name": "stdout",
     "output_type": "stream",
     "text": [
      "what ate \"dhdd\" s\n",
      "js \n",
      "\r\n",
      "what a\tte \"dhdd\" sjs \n"
     ]
    }
   ],
   "source": [
    "#2. What do the escape characters n and t stand for?\n",
    "\n",
    "txt1='what ate \"dhdd\" s\\njs '\n",
    "print(txt1)# it added a new line\n",
    "print('\\r')\n",
    "txt2='what a\\tte \"dhdd\" sjs '\n",
    "print(txt2)#it insert tab at desired area\n"
   ]
  },
  {
   "cell_type": "code",
   "execution_count": 24,
   "id": "84bd51f2",
   "metadata": {},
   "outputs": [
    {
     "name": "stdout",
     "output_type": "stream",
     "text": [
      "i eat mango\\apple \n"
     ]
    }
   ],
   "source": [
    "#3. What is the way to include backslash characters in a string?\n",
    "\n",
    "#we can include \\\\ as a backlash character\n",
    "\n",
    "txt3='i eat mango\\\\apple '\n",
    "print(txt3)"
   ]
  },
  {
   "cell_type": "raw",
   "id": "bc3dacbd",
   "metadata": {},
   "source": [
    "4. The string \"Howl's Moving Castle\" is a correct value. \n",
    "Why isn't the single quote character in the word Howl's not escaped a problem?\n",
    "\n",
    "bcz we can give single quote for (beginning & end double quote)\n",
    "bcz we can give double quote inside of word for (beginning & end single quote)"
   ]
  },
  {
   "cell_type": "code",
   "execution_count": 35,
   "id": "f999c764",
   "metadata": {},
   "outputs": [
    {
     "name": "stdout",
     "output_type": "stream",
     "text": [
      "i eat mango\n",
      "and apple \n"
     ]
    }
   ],
   "source": [
    "#5. How do you write a string of newlines if you don't want to use the n character?\n",
    "\n",
    "#we can use multiline string\n",
    "\n",
    "test2='i eat mango'\n",
    "test3='and apple '\n",
    "print(test2)\n",
    "print(test3)"
   ]
  },
  {
   "cell_type": "code",
   "execution_count": 41,
   "id": "5bea0007",
   "metadata": {},
   "outputs": [
    {
     "name": "stdout",
     "output_type": "stream",
     "text": [
      "e \n",
      " Hello \n",
      " Hello \n",
      " lo, world! \n",
      "\n"
     ]
    }
   ],
   "source": [
    "#6. What are the values of the given expressions?\n",
    "\n",
    "a='Hello, world!'[1]\n",
    "b='Hello, world!'[0:5]\n",
    "c='Hello, world!'[:5]\n",
    "d='Hello, world!'[3:]\n",
    "print(a,'\\n',b,'\\n',c,'\\n',d,'\\n')"
   ]
  },
  {
   "cell_type": "code",
   "execution_count": 45,
   "id": "9a91176e",
   "metadata": {},
   "outputs": [
    {
     "name": "stdout",
     "output_type": "stream",
     "text": [
      "HELLO True hello False\n"
     ]
    }
   ],
   "source": [
    "#7. What are the values of the following expressions?\n",
    "a='Hello'.upper()\n",
    "b='Hello'.upper().isupper()\n",
    "c='Hello'.upper().lower()\n",
    "d='Hello'.upper().islower()\n",
    "\n",
    "print(a,b,c,d)"
   ]
  },
  {
   "cell_type": "code",
   "execution_count": 50,
   "id": "cdd204cd",
   "metadata": {},
   "outputs": [
    {
     "name": "stdout",
     "output_type": "stream",
     "text": [
      "['Remember,', 'remember,', 'the', 'fifth', 'of', 'July.']\n",
      "There-can-only-one.\n"
     ]
    }
   ],
   "source": [
    "#8. What are the values of the following expressions?\n",
    "\n",
    "print('Remember, remember, the fifth of July.'.split())\n",
    "print('-'.join('There can only one.'.split()))\n"
   ]
  },
  {
   "cell_type": "code",
   "execution_count": 75,
   "id": "cbd936bd",
   "metadata": {},
   "outputs": [
    {
     "name": "stdout",
     "output_type": "stream",
     "text": [
      "*********i eat mango\n",
      "i eat mango*********\n",
      "****i eat mango*****\n"
     ]
    }
   ],
   "source": [
    "#9. What are the methods for right-justifying, left-justifying, and centering a string?\n",
    "\n",
    "test4='i eat mango'\n",
    "\n",
    "x=test4.rjust(20,\"*\")\n",
    "print(x)\n",
    "\n",
    "y=test4.ljust(20,\"*\")\n",
    "print(y)\n",
    "\n",
    "z=test4.center(20,\"*\")\n",
    "print(z)\n"
   ]
  },
  {
   "cell_type": "code",
   "execution_count": 88,
   "id": "90a56495",
   "metadata": {},
   "outputs": [
    {
     "name": "stdout",
     "output_type": "stream",
     "text": [
      "of all fruits banana       is my favorite\n",
      "of all fruits      banana is my favorite\n"
     ]
    }
   ],
   "source": [
    "#10. What is the best way to remove whitespace characters from the start or end?\n",
    "\n",
    "txt = \"     banana      \"   \n",
    "x = txt.lstrip()  #remove space from left side\n",
    "print(\"of all fruits\",x,\"is my favorite\")\n",
    "\n",
    "y = txt.rstrip() #remove space from right side\n",
    "print(\"of all fruits\",y,\"is my favorite\")"
   ]
  }
 ],
 "metadata": {
  "kernelspec": {
   "display_name": "Python 3 (ipykernel)",
   "language": "python",
   "name": "python3"
  },
  "language_info": {
   "codemirror_mode": {
    "name": "ipython",
    "version": 3
   },
   "file_extension": ".py",
   "mimetype": "text/x-python",
   "name": "python",
   "nbconvert_exporter": "python",
   "pygments_lexer": "ipython3",
   "version": "3.9.7"
  }
 },
 "nbformat": 4,
 "nbformat_minor": 5
}
