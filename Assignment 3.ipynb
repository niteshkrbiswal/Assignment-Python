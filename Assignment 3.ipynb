{
 "cells": [
  {
   "cell_type": "raw",
   "id": "78896c10",
   "metadata": {},
   "source": [
    "1.Why are functions advantageous to have in your programs?\n",
    "\n",
    "Functions reduce the need for duplicate code. This makes programs shorter, easier to read, and easier to update.\n",
    "\n",
    "\n",
    "2.When does the code in a function execute: when the function is defined or when the function is called?\n",
    "The code in a function executes when the function is called, not when the function is defined.\n",
    "\n",
    "\n",
    "\n",
    "3.What statement creates a function?\n",
    "def\n",
    "\n",
    "\n",
    "4.What is the difference between a function and a function call?\n",
    "function consists of the def statement.\n",
    "\n",
    "5.function call evaluates to the function's return value.\n",
    "\n",
    "\n",
    "6.How many global scopes are there in a Python program? How many local scopes?\n",
    "1 global scope\n",
    "and a local scope is created whenever a function is called.\n",
    "\n",
    "\n",
    "7.What happens to variables in a local scope when the function call returns?\n",
    "the local scope is destroyed, and all the variables in it are forgotten.\n",
    "\n",
    "\n",
    "8.What is a return value? Can a return value be part of an expression?\n",
    "A return value is the value that a function call evaluates to.\n",
    "return value can be used as part of an expression.\n",
    "\n",
    "\n",
    "9.If a function does not have a return statement, what is the return value of a call to that function?\n",
    "return value will be None.\n",
    "\n",
    "\n",
    "10.How can you force a variable in a function to refer to the global variable?\n",
    "A global statement \n",
    "\n",
    "11.What is the data type of None?\n",
    "NoneType."
   ]
  }
 ],
 "metadata": {
  "kernelspec": {
   "display_name": "Python 3 (ipykernel)",
   "language": "python",
   "name": "python3"
  },
  "language_info": {
   "codemirror_mode": {
    "name": "ipython",
    "version": 3
   },
   "file_extension": ".py",
   "mimetype": "text/x-python",
   "name": "python",
   "nbconvert_exporter": "python",
   "pygments_lexer": "ipython3",
   "version": "3.9.7"
  }
 },
 "nbformat": 4,
 "nbformat_minor": 5
}
